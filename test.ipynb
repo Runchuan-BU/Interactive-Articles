{
 "cells": [
  {
   "cell_type": "code",
   "execution_count": 1,
   "metadata": {},
   "outputs": [
    {
     "name": "stdout",
     "output_type": "stream",
     "text": [
      "✅ 成功返回 AI 分析结果：\n",
      "[\n",
      "  {\n",
      "    \"question\": \"What is the capital of France?\",\n",
      "    \"type\": \"mcq\",\n",
      "    \"analysis\": \"This question is testing knowledge of world capitals. The correct option is Paris. Paris is the capital of France, known for its iconic landmarks such as the Eiffel Tower and Louvre Museum. Berlin, Madrid, and Rome are the capitals of Germany, Spain, and Italy, respectively. This question assesses basic geographical knowledge.\"\n",
      "  },\n",
      "  {\n",
      "    \"question\": \"Explain the process of photosynthesis.\",\n",
      "    \"type\": \"frq\",\n",
      "    \"analysis\": \"A comprehensive answer to this question should include key concepts such as the conversion of sunlight, water, and carbon dioxide into glucose and oxygen by chlorophyll in the presence of enzymes. The structure should involve explaining the two stages of photosynthesis (light-dependent and light-independent reactions), the role of organelles like chloroplasts, and the significance of this process in sustaining life on Earth. Keep the explanation concise and focused on these essential points.\"\n",
      "  }\n",
      "]\n"
     ]
    }
   ],
   "source": [
    "import requests\n",
    "import json\n",
    "\n",
    "# 后端 API 端点\n",
    "API_URL = \"http://localhost:5000/questions/analysis\"\n",
    "\n",
    "# 发送的数据（包含 MCQ 和 FRQ）\n",
    "data = {\n",
    "    \"title\": \"Sample Quiz\",\n",
    "    \"questions\": [\n",
    "        {\n",
    "            \"type\": \"mcq\",\n",
    "            \"question\": \"What is the capital of France?\",\n",
    "            \"options\": [\"Berlin\", \"Madrid\", \"Paris\", \"Rome\"]\n",
    "        },\n",
    "        {\n",
    "            \"type\": \"frq\",\n",
    "            \"question\": \"Explain the process of photosynthesis.\"\n",
    "        }\n",
    "    ]\n",
    "}\n",
    "\n",
    "# 发送 POST 请求\n",
    "try:\n",
    "    response = requests.post(API_URL, json=data, headers={\"Content-Type\": \"application/json\"})\n",
    "\n",
    "    # 打印结果\n",
    "    if response.status_code == 200:\n",
    "        print(\"✅ 成功返回 AI 分析结果：\")\n",
    "        print(json.dumps(response.json(), indent=2, ensure_ascii=False))\n",
    "    else:\n",
    "        print(f\"❌ 请求失败: {response.status_code}\")\n",
    "        print(response.text)  # 打印服务器返回的错误信息\n",
    "\n",
    "except requests.exceptions.RequestException as e:\n",
    "    print(f\"⚠️  请求失败: {e}\")"
   ]
  }
 ],
 "metadata": {
  "kernelspec": {
   "display_name": "Python 3",
   "language": "python",
   "name": "python3"
  },
  "language_info": {
   "codemirror_mode": {
    "name": "ipython",
    "version": 3
   },
   "file_extension": ".py",
   "mimetype": "text/x-python",
   "name": "python",
   "nbconvert_exporter": "python",
   "pygments_lexer": "ipython3",
   "version": "3.12.7"
  }
 },
 "nbformat": 4,
 "nbformat_minor": 2
}
